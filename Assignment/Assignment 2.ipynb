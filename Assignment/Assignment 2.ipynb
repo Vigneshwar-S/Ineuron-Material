{
 "cells": [
  {
   "cell_type": "markdown",
   "metadata": {},
   "source": [
    "### Assignment 2:\n",
    "\n",
    "#### Question 1:  Create the below pattern using nested for loop in Python."
   ]
  },
  {
   "cell_type": "code",
   "execution_count": 1,
   "metadata": {},
   "outputs": [
    {
     "name": "stdout",
     "output_type": "stream",
     "text": [
      "Enter the maximum number of stars : 5\n",
      "\n",
      "* \n",
      "* * \n",
      "* * * \n",
      "* * * * \n",
      "* * * * * \n",
      "* * * * * \n",
      "* * * * \n",
      "* * * \n",
      "* * \n",
      "* \n"
     ]
    }
   ],
   "source": [
    "def star_pattern():\n",
    "    n = int(input(\"Enter the maximum number of stars : \"))\n",
    "    for i in range(n+1):\n",
    "        for j in range (i):\n",
    "            print (\"* \", end =\"\")\n",
    "        print ('')\n",
    "\n",
    "    for i in range(n,0,-1):\n",
    "        for j in range (i):\n",
    "            print (\"* \", end=\"\")\n",
    "        print('')\n",
    "star_pattern()"
   ]
  },
  {
   "cell_type": "markdown",
   "metadata": {},
   "source": [
    "#### Question 2:  Write a Python program to reverse a word after accepting the input from the user."
   ]
  },
  {
   "cell_type": "code",
   "execution_count": 3,
   "metadata": {},
   "outputs": [
    {
     "name": "stdout",
     "output_type": "stream",
     "text": [
      "Please enter a word : kannan\n",
      "Reversed word is : nannak\n"
     ]
    }
   ],
   "source": [
    "def Reversed_Word():\n",
    "    R = str(input(\"Please enter a word : \"))\n",
    "    print(\"Reversed word is :\", R[::-1])\n",
    "Reversed_Word()"
   ]
  }
 ],
 "metadata": {
  "kernelspec": {
   "display_name": "Python 3",
   "language": "python",
   "name": "python3"
  },
  "language_info": {
   "codemirror_mode": {
    "name": "ipython",
    "version": 3
   },
   "file_extension": ".py",
   "mimetype": "text/x-python",
   "name": "python",
   "nbconvert_exporter": "python",
   "pygments_lexer": "ipython3",
   "version": "3.8.5"
  }
 },
 "nbformat": 4,
 "nbformat_minor": 4
}
