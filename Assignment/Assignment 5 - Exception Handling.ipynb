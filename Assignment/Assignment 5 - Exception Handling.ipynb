{
 "cells": [
  {
   "cell_type": "markdown",
   "metadata": {},
   "source": [
    "### Assignment 5 - Exception Handling"
   ]
  },
  {
   "cell_type": "markdown",
   "metadata": {},
   "source": [
    "#### Question 1: Write a function to compute 5/0 and use try/except to catch the exceptions"
   ]
  },
  {
   "cell_type": "code",
   "execution_count": 10,
   "metadata": {},
   "outputs": [
    {
     "name": "stdout",
     "output_type": "stream",
     "text": [
      "Division by ZERO!!\n"
     ]
    }
   ],
   "source": [
    "def divide_by_zero():\n",
    "    return 5/0\n",
    "    \n",
    "try:\n",
    "    divide_by_zero()\n",
    "except ZeroDivisionError as ze:\n",
    "    print(\"Division by ZERO!!\")\n",
    "except:\n",
    "    print(\"Other exceptions are handled here\")"
   ]
  },
  {
   "cell_type": "markdown",
   "metadata": {},
   "source": [
    "#### Question 2. Implement a Python program to generate all sentences where subject is in [\"Americans\", \"Indians\"] and verb is in [\"Play\", \"watch\"] and the object is in [\"Baseball\",\"cricket\"]\n",
    "\n",
    "#### Hint: Subject,Verb and Object should be declared in the program as shown below.\n",
    "\n",
    "#### subjects=[\"Americans \",\"Indians\"] | verbs=[\"play\",\"watch\"] | objects=[\"Baseball\",\"Cricket\"]"
   ]
  },
  {
   "cell_type": "code",
   "execution_count": 9,
   "metadata": {},
   "outputs": [],
   "source": [
    "def Subject_Verb_Object():\n",
    "    Subject = list(input(\"Please subject words separeted by commas : \").split(\",\"))\n",
    "    Subject_List = [x.strip() for x in Subject]\n",
    "    Verb = list(input(\"Please verb words separeted by commas : \").split(\",\"))\n",
    "    Verb_List = [y.strip() for y in Verb]\n",
    "    Object = list(input(\"Please object words separeted by commas : \").split(\",\"))\n",
    "    Object_List = [z.strip() for z in Object]\n",
    "    List = [(Sub + \" \" + Ver + \" \" + Obj) for Sub in Subject_List for Ver in Verb_List for Obj in Object_List]\n",
    "    for words in List:\n",
    "        print(words)"
   ]
  },
  {
   "cell_type": "code",
   "execution_count": 10,
   "metadata": {},
   "outputs": [
    {
     "name": "stdout",
     "output_type": "stream",
     "text": [
      "Please subject words separeted by commas : Americans, Indians\n",
      "Please verb words separeted by commas :  play,watch\n",
      "Please object words separeted by commas : Baseball,Cricket\n",
      "Americans play Baseball\n",
      "Americans play Cricket\n",
      "Americans watch Baseball\n",
      "Americans watch Cricket\n",
      "Indians play Baseball\n",
      "Indians play Cricket\n",
      "Indians watch Baseball\n",
      "Indians watch Cricket\n"
     ]
    }
   ],
   "source": [
    "Subject_Verb_Object()"
   ]
  },
  {
   "cell_type": "code",
   "execution_count": null,
   "metadata": {},
   "outputs": [],
   "source": []
  }
 ],
 "metadata": {
  "kernelspec": {
   "display_name": "Python 3",
   "language": "python",
   "name": "python3"
  },
  "language_info": {
   "codemirror_mode": {
    "name": "ipython",
    "version": 3
   },
   "file_extension": ".py",
   "mimetype": "text/x-python",
   "name": "python",
   "nbconvert_exporter": "python",
   "pygments_lexer": "ipython3",
   "version": "3.8.5"
  }
 },
 "nbformat": 4,
 "nbformat_minor": 4
}
